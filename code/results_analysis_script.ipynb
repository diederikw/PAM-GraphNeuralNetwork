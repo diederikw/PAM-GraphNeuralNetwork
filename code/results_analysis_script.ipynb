{
 "cells": [
  {
   "cell_type": "code",
   "execution_count": 2,
   "metadata": {},
   "outputs": [
    {
     "name": "stderr",
     "output_type": "stream",
     "text": [
      "c:\\Users\\diede\\miniconda3\\envs\\windfarm\\lib\\site-packages\\tqdm\\auto.py:22: TqdmWarning: IProgress not found. Please update jupyter and ipywidgets. See https://ipywidgets.readthedocs.io/en/stable/user_install.html\n",
      "  from .autonotebook import tqdm as notebook_tqdm\n"
     ]
    }
   ],
   "source": [
    "import os\n",
    "import numpy as np\n",
    "import xarray as xr\n",
    "import matplotlib as mpl\n",
    "import matplotlib.pyplot as plt\n",
    "from matplotlib.ticker import PercentFormatter\n",
    "import torch\n",
    "from sklearn.metrics import r2_score"
   ]
  },
  {
   "cell_type": "code",
   "execution_count": 3,
   "metadata": {},
   "outputs": [],
   "source": [
    "def f_filter_arr(filtered_array, checked_array, minimum_value, maximum_value):\n",
    "    # Create an empty list\n",
    "    filter_arr = []\n",
    "\n",
    "    # Go through each element in the array to be checked\n",
    "    for element in checked_array:\n",
    "        if (element >= minimum_value and element < maximum_value):\n",
    "            filter_arr.append(True)\n",
    "        else:\n",
    "            filter_arr.append(False)\n",
    "\n",
    "    return filtered_array[filter_arr]"
   ]
  },
  {
   "cell_type": "code",
   "execution_count": 22,
   "metadata": {},
   "outputs": [
    {
     "name": "stdout",
     "output_type": "stream",
     "text": [
      "9 ['0_no_reduction-cartesian_filter-1.3-layer_8_64-batchn_True-act_relu-actf_False-lbias_True', '0_no_reduction-pwl_filter-0.001-layer_8_64-batchn_True-act_relu-actf_False-lbias_True', '0_no_reduction-random_filter-0.8-layer_8_64-batchn_True-act_relu-actf_False-lbias_True', '1_no_reduction-cartesian_filter-1.3-layer_8_64-batchn_False-act_relu-actf_False-lbias_True', '1_no_reduction-pwl_filter-0.001-layer_8_64-batchn_False-act_relu-actf_False-lbias_True', '1_no_reduction-random_filter-0.8-layer_8_64-batchn_False-act_relu-actf_False-lbias_True', '2_no_reduction-cartesian_filter-1.3-layer_8_64-batchn_False-act_lrelu-actf_False-lbias_True', '2_no_reduction-pwl_filter-0.001-layer_8_64-batchn_False-act_lrelu-actf_False-lbias_True', '2_no_reduction-random_filter-0.8-layer_8_64-batchn_False-act_lrelu-actf_False-lbias_True']\n",
      "9 ['0_no_reduction-cartesian_filter-1.3-layer_8_64-batchn_True-act_relu-actf_False-lbias_True', '0_no_reduction-pwl_filter-0.001-layer_8_64-batchn_True-act_relu-actf_False-lbias_True', '0_no_reduction-random_filter-0.8-layer_8_64-batchn_True-act_relu-actf_False-lbias_True', '1_no_reduction-cartesian_filter-1.3-layer_8_64-batchn_False-act_relu-actf_False-lbias_True', '1_no_reduction-pwl_filter-0.001-layer_8_64-batchn_False-act_relu-actf_False-lbias_True', '1_no_reduction-random_filter-0.8-layer_8_64-batchn_False-act_relu-actf_False-lbias_True', '2_no_reduction-cartesian_filter-1.3-layer_8_64-batchn_False-act_lrelu-actf_False-lbias_True', '2_no_reduction-pwl_filter-0.001-layer_8_64-batchn_False-act_lrelu-actf_False-lbias_True', '2_no_reduction-random_filter-0.8-layer_8_64-batchn_False-act_lrelu-actf_False-lbias_True']\n"
     ]
    }
   ],
   "source": [
    "'''\n",
    "Adjust all desired settings here, everything should be linked and automatic from there on. \n",
    "C:\\Studies\\WFLO-GNN\\documents\\data\\data_single_pmf_wd\\results_mse_loss\\2_no_reduction-random_filter-0.8-layer_8_64-batchn_False-act_lrelu-actf_False-lbias_True\n",
    "data_path = os.path.join(data_path, 'data_multi_wd', 'results_incl_pmf_wind')\n",
    "'''\n",
    "# Import testing and plotting functions\n",
    "from plot_result_functions import ResultSupportFunctions as support_f\n",
    "# Set paths and options for experiment specific data\n",
    "doc_path = r'C:\\Studies\\WFLO-GNN\\documents'\n",
    "# Load data path\n",
    "'''\n",
    "data_single_pmf_wd\n",
    "results_mse_loss, results_detailed_time\n",
    "\n",
    "data_multi_wd\n",
    "results_incl_pmf_wind, results_incl_pdf_wind, results_excl_wind, results_detailed_time\n",
    "'''\n",
    "singleWD = True\n",
    "if (singleWD):\n",
    "    data_path = os.path.join(doc_path, 'data', 'data_single_pmf_wd')\n",
    "else:\n",
    "    data_path = os.path.join(doc_path, 'data', 'data_multi_wd')\n",
    "data_path_1 = os.path.join(data_path, 'results_mse_loss')\n",
    "data_path_2 = os.path.join(data_path, 'results_mse_loss')\n",
    "#data_path_3 = os.path.join(data_path, 'results_detailed_time')\n",
    "if (singleWD):\n",
    "    pwlymax = 0.9\n",
    "else:\n",
    "    pwlymax = 0.3\n",
    "\n",
    "print(len(os.listdir(data_path_1)), os.listdir(data_path_1))\n",
    "print(len(os.listdir(data_path_2)), os.listdir(data_path_2))"
   ]
  },
  {
   "cell_type": "code",
   "execution_count": 5,
   "metadata": {},
   "outputs": [
    {
     "name": "stdout",
     "output_type": "stream",
     "text": [
      "MD-E-C\n",
      "MD-E-R\n",
      "Folder already exist.\n",
      "Folder already exist.\n"
     ]
    }
   ],
   "source": [
    "figures_path = r'C:\\Studies\\WFLO-GNN\\results\\Model_VFinal'\n",
    "\n",
    "model1 = 'MD-E-C'\n",
    "print(model1)\n",
    "i = 0\n",
    "results_path_1 = os.path.join(data_path_1, os.listdir(data_path_1)[i])\n",
    "figures_path_1 = os.path.join(figures_path, model1, 'test')\n",
    "\n",
    "model2 = 'MD-E-R'\n",
    "print(model2)\n",
    "j = 2\n",
    "results_path_2 = os.path.join(data_path_2, os.listdir(data_path_2)[j])\n",
    "figures_path_2 = os.path.join(figures_path, model2, 'test')\n",
    "\n",
    "\n",
    "try:\n",
    "    os.makedirs(figures_path_1)\n",
    "except:\n",
    "    print('Folder already exist.')\n",
    "try:\n",
    "    os.makedirs(figures_path_2)\n",
    "except:\n",
    "    print('Folder already exist.')"
   ]
  },
  {
   "cell_type": "code",
   "execution_count": 6,
   "metadata": {},
   "outputs": [
    {
     "data": {
      "text/plain": [
       "MLP_main(ModuleList(\n",
       "  (0): Linear(2, 64, bias=True)\n",
       "  (1): Identity()\n",
       "  (2): LeakyReLU(negative_slope=0.01)\n",
       "  (3): Linear(64, 64, bias=True)\n",
       "  (4): Identity()\n",
       "  (5): LeakyReLU(negative_slope=0.01)\n",
       "  (6): Linear(64, 64, bias=True)\n",
       "  (7): Identity()\n",
       "  (8): LeakyReLU(negative_slope=0.01)\n",
       "  (9): Linear(64, 64, bias=True)\n",
       "  (10): Identity()\n",
       "  (11): LeakyReLU(negative_slope=0.01)\n",
       "  (12): Linear(64, 64, bias=True)\n",
       "  (13): Identity()\n",
       "  (14): LeakyReLU(negative_slope=0.01)\n",
       "  (15): Linear(64, 64, bias=True)\n",
       "  (16): Identity()\n",
       "  (17): LeakyReLU(negative_slope=0.01)\n",
       "  (18): Linear(64, 64, bias=True)\n",
       "  (19): Identity()\n",
       "  (20): LeakyReLU(negative_slope=0.01)\n",
       "  (21): Linear(64, 64, bias=True)\n",
       "  (22): Identity()\n",
       "  (23): LeakyReLU(negative_slope=0.01)\n",
       "  (24): Linear(64, 64, bias=True)\n",
       "  (25): Identity()\n",
       "  (26): LeakyReLU(negative_slope=0.01)\n",
       "  (27): Linear(64, 1, bias=True)\n",
       "))"
      ]
     },
     "execution_count": 6,
     "metadata": {},
     "output_type": "execute_result"
    }
   ],
   "source": [
    "model = torch.load(os.path.join(results_path_2, 'model'))\n",
    "model"
   ]
  },
  {
   "cell_type": "code",
   "execution_count": 7,
   "metadata": {},
   "outputs": [],
   "source": [
    "losses_epochs_1 = np.loadtxt(os.path.join(results_path_1, 'Losses_epochs.txt'))\n",
    "losses_epochs_2 = np.loadtxt(os.path.join(results_path_2, 'Losses_epochs.txt'))\n",
    "msemax = np.max((losses_epochs_1, losses_epochs_2))\n",
    "test_loss_detailed_1 = xr.open_dataarray(os.path.join(results_path_1, 'test_loss_detailed_all.nc'))\n",
    "test_loss_detailed_2 = xr.open_dataarray(os.path.join(results_path_2, 'test_loss_detailed_all.nc'))\n",
    "aemax = np.max((test_loss_detailed_1.sel(edge_feature='loss_mae', epoch=199).max().item(), test_loss_detailed_2.sel(edge_feature='loss_mae', epoch=199).max().item()))"
   ]
  },
  {
   "cell_type": "code",
   "execution_count": 8,
   "metadata": {},
   "outputs": [
    {
     "name": "stdout",
     "output_type": "stream",
     "text": [
      "MD-E-C\n",
      "C: 0.0004534164874712587\n",
      "MD-E-R\n",
      "R: 0.00011591093639253813\n"
     ]
    },
    {
     "data": {
      "image/png": "[encoded data removed]",
      "text/plain": [
       "<Figure size 432x288 with 1 Axes>"
      ]
     },
     "metadata": {
      "needs_background": "light"
     },
     "output_type": "display_data"
    },
    {
     "data": {
      "image/png": "[encoded data removed]",
      "text/plain": [
       "<Figure size 432x288 with 1 Axes>"
      ]
     },
     "metadata": {
      "needs_background": "light"
     },
     "output_type": "display_data"
    }
   ],
   "source": [
    "save_file = False\n",
    "print(model1)\n",
    "losses_epochs_1 = np.loadtxt(os.path.join(results_path_1, 'Losses_epochs.txt'))\n",
    "train_losses_epochs = losses_epochs_1[0]\n",
    "test_losses_epochs = losses_epochs_1[1]\n",
    "print(f'C: {test_losses_epochs[199]}')\n",
    "plt.figure(layout='constrained')\n",
    "plt.plot(train_losses_epochs, label='Training')\n",
    "plt.plot(test_losses_epochs, label='Testing')\n",
    "plt.xlabel('Epoch')\n",
    "plt.axis([-1, 200, 0, msemax])\n",
    "plt.ylabel('MSE')\n",
    "title = f'{model1} PWL predictions loss history'\n",
    "plt.title(title)\n",
    "plt.legend();\n",
    "if (save_file):\n",
    "    plt.savefig(os.path.join(figures_path_1, f'MSE.pdf'), format='pdf')\n",
    "    #plt.savefig(os.path.join(figures_path_1, f'{title}.png'), format='png')\n",
    "\n",
    "print(model2)\n",
    "losses_epochs_2 = np.loadtxt(os.path.join(results_path_2, 'Losses_epochs.txt'))\n",
    "train_losses_epochs = losses_epochs_2[0]\n",
    "test_losses_epochs = losses_epochs_2[1]\n",
    "print(f'R: {test_losses_epochs[199]}')\n",
    "plt.figure(layout='constrained')\n",
    "plt.plot(train_losses_epochs, label='Training')\n",
    "plt.plot(test_losses_epochs, label='Testing')\n",
    "plt.xlabel('Epoch')\n",
    "plt.axis([-1, 200, 0, msemax])\n",
    "plt.ylabel('MSE')\n",
    "title = f'{model2} PWL predictions loss history'\n",
    "plt.title(title)\n",
    "plt.legend();\n",
    "if (save_file):\n",
    "    plt.savefig(os.path.join(figures_path_2, f'MSE.pdf'), format='pdf')\n",
    "    #plt.savefig(os.path.join(figures_path_2, f'{title}.png'), format='png')"
   ]
  },
  {
   "cell_type": "code",
   "execution_count": 9,
   "metadata": {},
   "outputs": [
    {
     "data": {
      "text/plain": [
       "\"\\nsave_file = False\\nsave_dir = figures_path_1\\n# Build the plot\\nplt.figure(layout='constrained')\\n\\n#test_times = np.loadtxt(os.path.join(no_results_path, 'Testing_times.txt'))\\n#plt.hist(test_times, bins=100, weights=np.ones(len(test_times)) / len(test_times), label='No filter')\\n#print(test_times.sum())\\n\\ntest_times = np.loadtxt(os.path.join(results_path_2, 'Testing_times.txt'))\\nplt.hist(test_times, label='No filter', bins=100)\\nprint(test_times.sum())\\n\\ntest_times = np.loadtxt(os.path.join(results_path_2, 'Testing_times.txt'))\\nplt.hist(test_times, bins=100, label='Random filter')\\nprint(test_times.sum())\\n\\ntest_times = np.loadtxt(os.path.join(results_path_1, 'Testing_times.txt'))\\nplt.hist(test_times, bins=100, label='Cartesian filter')\\nprint(test_times.sum())\\n\\nplt.xlabel('Time')\\nplt.ylabel('Frequency')\\nplt.title('Elapsed testing time per batch')\\n\\n#plt.gca().yaxis.set_major_formatter(PercentFormatter(1))\\nplt.legend()\\nif (save_file):\\n    plt.savefig(os.path.join(save_dir, 'results_time_C.pdf'), format='pdf')\\nplt.show()\\n\""
      ]
     },
     "execution_count": 9,
     "metadata": {},
     "output_type": "execute_result"
    }
   ],
   "source": [
    "\n",
    "'''\n",
    "save_file = False\n",
    "save_dir = figures_path_1\n",
    "# Build the plot\n",
    "plt.figure(layout='constrained')\n",
    "\n",
    "#test_times = np.loadtxt(os.path.join(no_results_path, 'Testing_times.txt'))\n",
    "#plt.hist(test_times, bins=100, weights=np.ones(len(test_times)) / len(test_times), label='No filter')\n",
    "#print(test_times.sum())\n",
    "\n",
    "test_times = np.loadtxt(os.path.join(results_path_2, 'Testing_times.txt'))\n",
    "plt.hist(test_times, label='No filter', bins=100)\n",
    "print(test_times.sum())\n",
    "\n",
    "test_times = np.loadtxt(os.path.join(results_path_2, 'Testing_times.txt'))\n",
    "plt.hist(test_times, bins=100, label='Random filter')\n",
    "print(test_times.sum())\n",
    "\n",
    "test_times = np.loadtxt(os.path.join(results_path_1, 'Testing_times.txt'))\n",
    "plt.hist(test_times, bins=100, label='Cartesian filter')\n",
    "print(test_times.sum())\n",
    "\n",
    "plt.xlabel('Time')\n",
    "plt.ylabel('Frequency')\n",
    "plt.title('Elapsed testing time per batch')\n",
    "\n",
    "#plt.gca().yaxis.set_major_formatter(PercentFormatter(1))\n",
    "plt.legend()\n",
    "if (save_file):\n",
    "    plt.savefig(os.path.join(save_dir, 'results_time_C.pdf'), format='pdf')\n",
    "plt.show()\n",
    "'''"
   ]
  },
  {
   "cell_type": "code",
   "execution_count": 10,
   "metadata": {},
   "outputs": [
    {
     "name": "stdout",
     "output_type": "stream",
     "text": [
      "MD-E-C\n"
     ]
    },
    {
     "data": {
      "image/png": "[encoded data removed]",
      "text/plain": [
       "<Figure size 432x288 with 2 Axes>"
      ]
     },
     "metadata": {
      "needs_background": "light"
     },
     "output_type": "display_data"
    },
    {
     "data": {
      "image/png": "[encoded data removed]",
      "text/plain": [
       "<Figure size 432x288 with 2 Axes>"
      ]
     },
     "metadata": {
      "needs_background": "light"
     },
     "output_type": "display_data"
    }
   ],
   "source": [
    "save_file = False\n",
    "cmap = 'viridis'\n",
    "bins = 100\n",
    "\n",
    "print(model1)\n",
    "test_loss_detailed_1 = xr.open_dataarray(os.path.join(results_path_1, 'test_loss_detailed_all.nc'))\n",
    "x_var = 'pwl_y'\n",
    "y_var = 'pwl_pred'\n",
    "y_data = test_loss_detailed_1.sel(edge_feature=y_var, epoch=199).values.flatten()\n",
    "y_data = y_data[~np.isnan(y_data)]\n",
    "x_data = test_loss_detailed_1.sel(edge_feature=x_var, epoch=199).values.flatten()\n",
    "x_data = x_data[~np.isnan(x_data)]\n",
    "\n",
    "plt.figure(layout='constrained')\n",
    "plt.hist2d(x_data, y_data, norm=mpl.colors.LogNorm(), bins=bins, cmap=plt.get_cmap(cmap))\n",
    "plt.plot([0, 1], [0, 1], '--', lw=2, c='r')\n",
    "plt.axis([None, pwlymax, None, pwlymax])\n",
    "plt.xlabel('Target PWL')\n",
    "plt.ylabel('Predicted PWL')\n",
    "plt.colorbar()\n",
    "title = f'{model1} heatmap of predicted PWL over target PWL'\n",
    "plt.title(title)\n",
    "if (save_file):\n",
    "    plt.savefig(os.path.join(figures_path_1, f'HM-PWLP.pdf'), format='pdf')\n",
    "    #plt.savefig(os.path.join(figures_path_1, f'{title}.png'), format='png')\n",
    "# ================================\n",
    "x_var = 'pwl_y'\n",
    "y_var = 'loss_mae'\n",
    "y_data = test_loss_detailed_1.sel(edge_feature=y_var, epoch=199).values.flatten()\n",
    "y_data = y_data[~np.isnan(y_data)]\n",
    "x_data = test_loss_detailed_1.sel(edge_feature=x_var, epoch=199).values.flatten()\n",
    "x_data = x_data[~np.isnan(x_data)]\n",
    "\n",
    "plt.figure(layout='constrained')\n",
    "plt.hist2d(x_data, y_data, norm=mpl.colors.LogNorm(), bins=bins, cmap=plt.get_cmap(cmap))\n",
    "plt.axis([None, pwlymax, None, aemax])\n",
    "plt.xlabel('Target PWL')\n",
    "plt.ylabel('AE')\n",
    "plt.colorbar()\n",
    "title = f'{model1} heatmap of AE over target PWL'\n",
    "plt.title(title)\n",
    "if (save_file):\n",
    "    plt.savefig(os.path.join(figures_path_1, f'HM-AE.pdf'), format='pdf')\n",
    "    #plt.savefig(os.path.join(figures_path_1, f'{title}.png'), format='png')"
   ]
  },
  {
   "cell_type": "code",
   "execution_count": 11,
   "metadata": {},
   "outputs": [
    {
     "name": "stdout",
     "output_type": "stream",
     "text": [
      "MD-E-R\n"
     ]
    },
    {
     "data": {
      "image/png": "[encoded data removed]",
      "text/plain": [
       "<Figure size 432x288 with 2 Axes>"
      ]
     },
     "metadata": {
      "needs_background": "light"
     },
     "output_type": "display_data"
    },
    {
     "data": {
      "image/png": "[encoded data removed]",
      "text/plain": [
       "<Figure size 432x288 with 2 Axes>"
      ]
     },
     "metadata": {
      "needs_background": "light"
     },
     "output_type": "display_data"
    }
   ],
   "source": [
    "save_file = False\n",
    "cmap = 'cividis'\n",
    "bins = 100\n",
    "\n",
    "print(model2)\n",
    "test_loss_detailed_2 = xr.open_dataarray(os.path.join(results_path_2, 'test_loss_detailed_all.nc'))\n",
    "x_var = 'pwl_y'\n",
    "y_var = 'pwl_pred'\n",
    "y_data = test_loss_detailed_2.sel(edge_feature=y_var, epoch=199).values.flatten()\n",
    "y_data = y_data[~np.isnan(y_data)]\n",
    "x_data = test_loss_detailed_2.sel(edge_feature=x_var, epoch=199).values.flatten()\n",
    "x_data = x_data[~np.isnan(x_data)]\n",
    "\n",
    "plt.figure(layout='constrained')\n",
    "plt.hist2d(x_data, y_data, norm=mpl.colors.LogNorm(), bins=bins, cmap=plt.get_cmap(cmap))\n",
    "plt.plot([0, 1], [0, 1], '--', lw=2, c='r')\n",
    "plt.axis([None, pwlymax, None, pwlymax])\n",
    "plt.xlabel('Target PWL')\n",
    "plt.ylabel('Predicted PWL')\n",
    "plt.colorbar()\n",
    "title = f'{model2} heatmap of predicted PWL over target PWL'\n",
    "plt.title(title)\n",
    "if (save_file):\n",
    "    plt.savefig(os.path.join(figures_path_2, f'HM-PWLP.pdf'), format='pdf')\n",
    "    #plt.savefig(os.path.join(figures_path_2, f'{title}.png'), format='png')\n",
    "# ================================\n",
    "x_var = 'pwl_y'\n",
    "y_var = 'loss_mae'\n",
    "y_data = test_loss_detailed_2.sel(edge_feature=y_var, epoch=199).values.flatten()\n",
    "y_data = y_data[~np.isnan(y_data)]\n",
    "x_data = test_loss_detailed_2.sel(edge_feature=x_var, epoch=199).values.flatten()\n",
    "x_data = x_data[~np.isnan(x_data)]\n",
    "\n",
    "plt.figure(layout='constrained')\n",
    "plt.hist2d(x_data, y_data, norm=mpl.colors.LogNorm(), bins=bins, cmap=plt.get_cmap(cmap))\n",
    "plt.axis([None, pwlymax, None, aemax])\n",
    "plt.xlabel('Target PWL')\n",
    "plt.ylabel('AE')\n",
    "plt.colorbar()\n",
    "title = f'{model2} heatmap of AE over target PWL'\n",
    "plt.title(title)\n",
    "if (save_file):\n",
    "    plt.savefig(os.path.join(figures_path_2, f'HM-AE.pdf'), format='pdf')\n",
    "    #plt.savefig(os.path.join(figures_path_2, f'{title}.png'), format='png')"
   ]
  },
  {
   "attachments": {},
   "cell_type": "markdown",
   "metadata": {},
   "source": [
    "DETAILED STATS"
   ]
  },
  {
   "cell_type": "code",
   "execution_count": 12,
   "metadata": {},
   "outputs": [
    {
     "data": {
      "text/html": [
       "<div><svg style=\"position: absolute; width: 0; height: 0; overflow: hidden\">\n",
       "<defs>\n",
       "<symbol id=\"icon-database\" viewBox=\"0 0 32 32\">\n",
       "<path d=\"M16 0c-8.837 0-16 2.239-16 5v4c0 2.761 7.163 5 16 5s16-2.239 16-5v-4c0-2.761-7.163-5-16-5z\"></path>\n",
       "<path d=\"M16 17c-8.837 0-16-2.239-16-5v6c0 2.761 7.163 5 16 5s16-2.239 16-5v-6c0 2.761-7.163 5-16 5z\"></path>\n",
       "<path d=\"M16 26c-8.837 0-16-2.239-16-5v6c0 2.761 7.163 5 16 5s16-2.239 16-5v-6c0 2.761-7.163 5-16 5z\"></path>\n",
       "</symbol>\n",
       "<symbol id=\"icon-file-text2\" viewBox=\"0 0 32 32\">\n",
       "<path d=\"M28.681 7.159c-0.694-0.947-1.662-2.053-2.724-3.116s-2.169-2.030-3.116-2.724c-1.612-1.182-2.393-1.319-2.841-1.319h-15.5c-1.378 0-2.5 1.121-2.5 2.5v27c0 1.378 1.122 2.5 2.5 2.5h23c1.378 0 2.5-1.122 2.5-2.5v-19.5c0-0.448-0.137-1.23-1.319-2.841zM24.543 5.457c0.959 0.959 1.712 1.825 2.268 2.543h-4.811v-4.811c0.718 0.556 1.584 1.309 2.543 2.268zM28 29.5c0 0.271-0.229 0.5-0.5 0.5h-23c-0.271 0-0.5-0.229-0.5-0.5v-27c0-0.271 0.229-0.5 0.5-0.5 0 0 15.499-0 15.5 0v7c0 0.552 0.448 1 1 1h7v19.5z\"></path>\n",
       "<path d=\"M23 26h-14c-0.552 0-1-0.448-1-1s0.448-1 1-1h14c0.552 0 1 0.448 1 1s-0.448 1-1 1z\"></path>\n",
       "<path d=\"M23 22h-14c-0.552 0-1-0.448-1-1s0.448-1 1-1h14c0.552 0 1 0.448 1 1s-0.448 1-1 1z\"></path>\n",
       "<path d=\"M23 18h-14c-0.552 0-1-0.448-1-1s0.448-1 1-1h14c0.552 0 1 0.448 1 1s-0.448 1-1 1z\"></path>\n",
       "</symbol>\n",
       "</defs>\n",
       "</svg>\n",
       "<style>/* CSS stylesheet for displaying xarray objects in jupyterlab.\n",
       " *\n",
       " */\n",
       "\n",
       ":root {\n",
       "  --xr-font-color0: var(--jp-content-font-color0, rgba(0, 0, 0, 1));\n",
       "  --xr-font-color2: var(--jp-content-font-color2, rgba(0, 0, 0, 0.54));\n",
       "  --xr-font-color3: var(--jp-content-font-color3, rgba(0, 0, 0, 0.38));\n",
       "  --xr-border-color: var(--jp-border-color2, #e0e0e0);\n",
       "  --xr-disabled-color: var(--jp-layout-color3, #bdbdbd);\n",
       "  --xr-background-color: var(--jp-layout-color0, white);\n",
       "  --xr-background-color-row-even: var(--jp-layout-color1, white);\n",
       "  --xr-background-color-row-odd: var(--jp-layout-color2, #eeeeee);\n",
       "}\n",
       "\n",
       "html[theme=dark],\n",
       "body.vscode-dark {\n",
       "  --xr-font-color0: rgba(255, 255, 255, 1);\n",
       "  --xr-font-color2: rgba(255, 255, 255, 0.54);\n",
       "  --xr-font-color3: rgba(255, 255, 255, 0.38);\n",
       "  --xr-border-color: #1F1F1F;\n",
       "  --xr-disabled-color: #515151;\n",
       "  --xr-background-color: #111111;\n",
       "  --xr-background-color-row-even: #111111;\n",
       "  --xr-background-color-row-odd: #313131;\n",
       "}\n",
       "\n",
       ".xr-wrap {\n",
       "  display: block;\n",
       "  min-width: 300px;\n",
       "  max-width: 700px;\n",
       "}\n",
       "\n",
       ".xr-text-repr-fallback {\n",
       "  /* fallback to plain text repr when CSS is not injected (untrusted notebook) */\n",
       "  display: none;\n",
       "}\n",
       "\n",
       ".xr-header {\n",
       "  padding-top: 6px;\n",
       "  padding-bottom: 6px;\n",
       "  margin-bottom: 4px;\n",
       "  border-bottom: solid 1px var(--xr-border-color);\n",
       "}\n",
       "\n",
       ".xr-header > div,\n",
       ".xr-header > ul {\n",
       "  display: inline;\n",
       "  margin-top: 0;\n",
       "  margin-bottom: 0;\n",
       "}\n",
       "\n",
       ".xr-obj-type,\n",
       ".xr-array-name {\n",
       "  margin-left: 2px;\n",
       "  margin-right: 10px;\n",
       "}\n",
       "\n",
       ".xr-obj-type {\n",
       "  color: var(--xr-font-color2);\n",
       "}\n",
       "\n",
       ".xr-sections {\n",
       "  padding-left: 0 !important;\n",
       "  display: grid;\n",
       "  grid-template-columns: 150px auto auto 1fr 20px 20px;\n",
       "}\n",
       "\n",
       ".xr-section-item {\n",
       "  display: contents;\n",
       "}\n",
       "\n",
       ".xr-section-item input {\n",
       "  display: none;\n",
       "}\n",
       "\n",
       ".xr-section-item input + label {\n",
       "  color: var(--xr-disabled-color);\n",
       "}\n",
       "\n",
       ".xr-section-item input:enabled + label {\n",
       "  cursor: pointer;\n",
       "  color: var(--xr-font-color2);\n",
       "}\n",
       "\n",
       ".xr-section-item input:enabled + label:hover {\n",
       "  color: var(--xr-font-color0);\n",
       "}\n",
       "\n",
       ".xr-section-summary {\n",
       "  grid-column: 1;\n",
       "  color: var(--xr-font-color2);\n",
       "  font-weight: 500;\n",
       "}\n",
       "\n",
       ".xr-section-summary > span {\n",
       "  display: inline-block;\n",
       "  padding-left: 0.5em;\n",
       "}\n",
       "\n",
       ".xr-section-summary-in:disabled + label {\n",
       "  color: var(--xr-font-color2);\n",
       "}\n",
       "\n",
       ".xr-section-summary-in + label:before {\n",
       "  display: inline-block;\n",
       "  content: '►';\n",
       "  font-size: 11px;\n",
       "  width: 15px;\n",
       "  text-align: center;\n",
       "}\n",
       "\n",
       ".xr-section-summary-in:disabled + label:before {\n",
       "  color: var(--xr-disabled-color);\n",
       "}\n",
       "\n",
       ".xr-section-summary-in:checked + label:before {\n",
       "  content: '▼';\n",
       "}\n",
       "\n",
       ".xr-section-summary-in:checked + label > span {\n",
       "  display: none;\n",
       "}\n",
       "\n",
       ".xr-section-summary,\n",
       ".xr-section-inline-details {\n",
       "  padding-top: 4px;\n",
       "  padding-bottom: 4px;\n",
       "}\n",
       "\n",
       ".xr-section-inline-details {\n",
       "  grid-column: 2 / -1;\n",
       "}\n",
       "\n",
       ".xr-section-details {\n",
       "  display: none;\n",
       "  grid-column: 1 / -1;\n",
       "  margin-bottom: 5px;\n",
       "}\n",
       "\n",
       ".xr-section-summary-in:checked ~ .xr-section-details {\n",
       "  display: contents;\n",
       "}\n",
       "\n",
       ".xr-array-wrap {\n",
       "  grid-column: 1 / -1;\n",
       "  display: grid;\n",
       "  grid-template-columns: 20px auto;\n",
       "}\n",
       "\n",
       ".xr-array-wrap > label {\n",
       "  grid-column: 1;\n",
       "  vertical-align: top;\n",
       "}\n",
       "\n",
       ".xr-preview {\n",
       "  color: var(--xr-font-color3);\n",
       "}\n",
       "\n",
       ".xr-array-preview,\n",
       ".xr-array-data {\n",
       "  padding: 0 5px !important;\n",
       "  grid-column: 2;\n",
       "}\n",
       "\n",
       ".xr-array-data,\n",
       ".xr-array-in:checked ~ .xr-array-preview {\n",
       "  display: none;\n",
       "}\n",
       "\n",
       ".xr-array-in:checked ~ .xr-array-data,\n",
       ".xr-array-preview {\n",
       "  display: inline-block;\n",
       "}\n",
       "\n",
       ".xr-dim-list {\n",
       "  display: inline-block !important;\n",
       "  list-style: none;\n",
       "  padding: 0 !important;\n",
       "  margin: 0;\n",
       "}\n",
       "\n",
       ".xr-dim-list li {\n",
       "  display: inline-block;\n",
       "  padding: 0;\n",
       "  margin: 0;\n",
       "}\n",
       "\n",
       ".xr-dim-list:before {\n",
       "  content: '(';\n",
       "}\n",
       "\n",
       ".xr-dim-list:after {\n",
       "  content: ')';\n",
       "}\n",
       "\n",
       ".xr-dim-list li:not(:last-child):after {\n",
       "  content: ',';\n",
       "  padding-right: 5px;\n",
       "}\n",
       "\n",
       ".xr-has-index {\n",
       "  font-weight: bold;\n",
       "}\n",
       "\n",
       ".xr-var-list,\n",
       ".xr-var-item {\n",
       "  display: contents;\n",
       "}\n",
       "\n",
       ".xr-var-item > div,\n",
       ".xr-var-item label,\n",
       ".xr-var-item > .xr-var-name span {\n",
       "  background-color: var(--xr-background-color-row-even);\n",
       "  margin-bottom: 0;\n",
       "}\n",
       "\n",
       ".xr-var-item > .xr-var-name:hover span {\n",
       "  padding-right: 5px;\n",
       "}\n",
       "\n",
       ".xr-var-list > li:nth-child(odd) > div,\n",
       ".xr-var-list > li:nth-child(odd) > label,\n",
       ".xr-var-list > li:nth-child(odd) > .xr-var-name span {\n",
       "  background-color: var(--xr-background-color-row-odd);\n",
       "}\n",
       "\n",
       ".xr-var-name {\n",
       "  grid-column: 1;\n",
       "}\n",
       "\n",
       ".xr-var-dims {\n",
       "  grid-column: 2;\n",
       "}\n",
       "\n",
       ".xr-var-dtype {\n",
       "  grid-column: 3;\n",
       "  text-align: right;\n",
       "  color: var(--xr-font-color2);\n",
       "}\n",
       "\n",
       ".xr-var-preview {\n",
       "  grid-column: 4;\n",
       "}\n",
       "\n",
       ".xr-var-name,\n",
       ".xr-var-dims,\n",
       ".xr-var-dtype,\n",
       ".xr-preview,\n",
       ".xr-attrs dt {\n",
       "  white-space: nowrap;\n",
       "  overflow: hidden;\n",
       "  text-overflow: ellipsis;\n",
       "  padding-right: 10px;\n",
       "}\n",
       "\n",
       ".xr-var-name:hover,\n",
       ".xr-var-dims:hover,\n",
       ".xr-var-dtype:hover,\n",
       ".xr-attrs dt:hover {\n",
       "  overflow: visible;\n",
       "  width: auto;\n",
       "  z-index: 1;\n",
       "}\n",
       "\n",
       ".xr-var-attrs,\n",
       ".xr-var-data {\n",
       "  display: none;\n",
       "  background-color: var(--xr-background-color) !important;\n",
       "  padding-bottom: 5px !important;\n",
       "}\n",
       "\n",
       ".xr-var-attrs-in:checked ~ .xr-var-attrs,\n",
       ".xr-var-data-in:checked ~ .xr-var-data {\n",
       "  display: block;\n",
       "}\n",
       "\n",
       ".xr-var-data > table {\n",
       "  float: right;\n",
       "}\n",
       "\n",
       ".xr-var-name span,\n",
       ".xr-var-data,\n",
       ".xr-attrs {\n",
       "  padding-left: 25px !important;\n",
       "}\n",
       "\n",
       ".xr-attrs,\n",
       ".xr-var-attrs,\n",
       ".xr-var-data {\n",
       "  grid-column: 1 / -1;\n",
       "}\n",
       "\n",
       "dl.xr-attrs {\n",
       "  padding: 0;\n",
       "  margin: 0;\n",
       "  display: grid;\n",
       "  grid-template-columns: 125px auto;\n",
       "}\n",
       "\n",
       ".xr-attrs dt,\n",
       ".xr-attrs dd {\n",
       "  padding: 0;\n",
       "  margin: 0;\n",
       "  float: left;\n",
       "  padding-right: 10px;\n",
       "  width: auto;\n",
       "}\n",
       "\n",
       ".xr-attrs dt {\n",
       "  font-weight: normal;\n",
       "  grid-column: 1;\n",
       "}\n",
       "\n",
       ".xr-attrs dt:hover span {\n",
       "  display: inline-block;\n",
       "  background: var(--xr-background-color);\n",
       "  padding-right: 10px;\n",
       "}\n",
       "\n",
       ".xr-attrs dd {\n",
       "  grid-column: 2;\n",
       "  white-space: pre-wrap;\n",
       "  word-break: break-all;\n",
       "}\n",
       "\n",
       ".xr-icon-database,\n",
       ".xr-icon-file-text2 {\n",
       "  display: inline-block;\n",
       "  vertical-align: middle;\n",
       "  width: 1em;\n",
       "  height: 1.5em !important;\n",
       "  stroke-width: 0;\n",
       "  stroke: currentColor;\n",
       "  fill: currentColor;\n",
       "}\n",
       "</style><pre class='xr-text-repr-fallback'>&lt;xarray.DataArray &#x27;edge_feature&#x27; (edge_feature: 7)&gt;\n",
       "array([&#x27;pwl_y&#x27;, &#x27;pwl_pred&#x27;, &#x27;loss_mae&#x27;, &#x27;loss_mse&#x27;, &#x27;loss_prct&#x27;, &#x27;c_dist&#x27;,\n",
       "       &#x27;n_dist&#x27;], dtype=object)\n",
       "Coordinates:\n",
       "  * edge_feature  (edge_feature) object &#x27;pwl_y&#x27; &#x27;pwl_pred&#x27; ... &#x27;c_dist&#x27; &#x27;n_dist&#x27;</pre><div class='xr-wrap' hidden><div class='xr-header'><div class='xr-obj-type'>xarray.DataArray</div><div class='xr-array-name'>'edge_feature'</div><ul class='xr-dim-list'><li><span class='xr-has-index'>edge_feature</span>: 7</li></ul></div><ul class='xr-sections'><li class='xr-section-item'><div class='xr-array-wrap'><input id='section-aa56aa73-35cb-48f9-bcdd-d2052cc7daa5' class='xr-array-in' type='checkbox' checked><label for='section-aa56aa73-35cb-48f9-bcdd-d2052cc7daa5' title='Show/hide data repr'><svg class='icon xr-icon-database'><use xlink:href='#icon-database'></use></svg></label><div class='xr-array-preview xr-preview'><span>&#x27;pwl_y&#x27; &#x27;pwl_pred&#x27; &#x27;loss_mae&#x27; &#x27;loss_mse&#x27; &#x27;loss_prct&#x27; &#x27;c_dist&#x27; &#x27;n_dist&#x27;</span></div><div class='xr-array-data'><pre>array([&#x27;pwl_y&#x27;, &#x27;pwl_pred&#x27;, &#x27;loss_mae&#x27;, &#x27;loss_mse&#x27;, &#x27;loss_prct&#x27;, &#x27;c_dist&#x27;,\n",
       "       &#x27;n_dist&#x27;], dtype=object)</pre></div></div></li><li class='xr-section-item'><input id='section-8716d06f-e969-44bd-8bb4-4733e759954b' class='xr-section-summary-in' type='checkbox'  checked><label for='section-8716d06f-e969-44bd-8bb4-4733e759954b' class='xr-section-summary' >Coordinates: <span>(1)</span></label><div class='xr-section-inline-details'></div><div class='xr-section-details'><ul class='xr-var-list'><li class='xr-var-item'><div class='xr-var-name'><span class='xr-has-index'>edge_feature</span></div><div class='xr-var-dims'>(edge_feature)</div><div class='xr-var-dtype'>object</div><div class='xr-var-preview xr-preview'>&#x27;pwl_y&#x27; &#x27;pwl_pred&#x27; ... &#x27;n_dist&#x27;</div><input id='attrs-1041f646-e0d5-4965-be07-60ed021cb014' class='xr-var-attrs-in' type='checkbox' disabled><label for='attrs-1041f646-e0d5-4965-be07-60ed021cb014' title='Show/Hide attributes'><svg class='icon xr-icon-file-text2'><use xlink:href='#icon-file-text2'></use></svg></label><input id='data-a7ace42a-161d-4e54-b0e0-32f71f0ecff7' class='xr-var-data-in' type='checkbox'><label for='data-a7ace42a-161d-4e54-b0e0-32f71f0ecff7' title='Show/Hide data repr'><svg class='icon xr-icon-database'><use xlink:href='#icon-database'></use></svg></label><div class='xr-var-attrs'><dl class='xr-attrs'></dl></div><div class='xr-var-data'><pre>array([&#x27;pwl_y&#x27;, &#x27;pwl_pred&#x27;, &#x27;loss_mae&#x27;, &#x27;loss_mse&#x27;, &#x27;loss_prct&#x27;, &#x27;c_dist&#x27;,\n",
       "       &#x27;n_dist&#x27;], dtype=object)</pre></div></li></ul></div></li><li class='xr-section-item'><input id='section-a4dfe79f-c687-4729-808f-553370438226' class='xr-section-summary-in' type='checkbox' disabled ><label for='section-a4dfe79f-c687-4729-808f-553370438226' class='xr-section-summary'  title='Expand/collapse section'>Attributes: <span>(0)</span></label><div class='xr-section-inline-details'></div><div class='xr-section-details'><dl class='xr-attrs'></dl></div></li></ul></div></div>"
      ],
      "text/plain": [
       "<xarray.DataArray 'edge_feature' (edge_feature: 7)>\n",
       "array(['pwl_y', 'pwl_pred', 'loss_mae', 'loss_mse', 'loss_prct', 'c_dist',\n",
       "       'n_dist'], dtype=object)\n",
       "Coordinates:\n",
       "  * edge_feature  (edge_feature) object 'pwl_y' 'pwl_pred' ... 'c_dist' 'n_dist'"
      ]
     },
     "execution_count": 12,
     "metadata": {},
     "output_type": "execute_result"
    }
   ],
   "source": [
    "test_loss_detailed_1.edge_feature"
   ]
  },
  {
   "cell_type": "code",
   "execution_count": 13,
   "metadata": {},
   "outputs": [
    {
     "name": "stdout",
     "output_type": "stream",
     "text": [
      "0.36589171161284895\n"
     ]
    }
   ],
   "source": [
    "test_loss_detailed_1 = xr.open_dataarray(os.path.join(results_path_1, 'test_loss_detailed_all.nc'))\n",
    "pwl_y = test_loss_detailed_1.sel(edge_feature='pwl_y', epoch=199).values.flatten()\n",
    "pwl_y = pwl_y[~np.isnan(pwl_y)]\n",
    "pwl_pred = test_loss_detailed_1.sel(edge_feature='pwl_pred', epoch=199).values.flatten()\n",
    "pwl_pred = pwl_pred[~np.isnan(pwl_pred)]\n",
    "r2_model1 = r2_score(pwl_y, pwl_pred)\n",
    "print(r2_model1)"
   ]
  },
  {
   "cell_type": "code",
   "execution_count": 14,
   "metadata": {},
   "outputs": [
    {
     "name": "stdout",
     "output_type": "stream",
     "text": [
      "0.6001707567001363\n"
     ]
    }
   ],
   "source": [
    "test_loss_detailed_2 = xr.open_dataarray(os.path.join(results_path_2, 'test_loss_detailed_all.nc'))\n",
    "pwl_y = test_loss_detailed_2.sel(edge_feature='pwl_y', epoch=199).values.flatten()\n",
    "pwl_y = pwl_y[~np.isnan(pwl_y)]\n",
    "pwl_pred = test_loss_detailed_2.sel(edge_feature='pwl_pred', epoch=199).values.flatten()\n",
    "pwl_pred = pwl_pred[~np.isnan(pwl_pred)]\n",
    "r2_model2 = r2_score(pwl_y, pwl_pred)\n",
    "print(r2_model2)"
   ]
  },
  {
   "cell_type": "code",
   "execution_count": 15,
   "metadata": {},
   "outputs": [
    {
     "name": "stdout",
     "output_type": "stream",
     "text": [
      "MD-E-C\n"
     ]
    },
    {
     "data": {
      "image/png": "[encoded data removed]",
      "text/plain": [
       "<Figure size 432x288 with 2 Axes>"
      ]
     },
     "metadata": {
      "needs_background": "light"
     },
     "output_type": "display_data"
    }
   ],
   "source": [
    "save_file = False\n",
    "cmap = 'viridis'\n",
    "bins = 100\n",
    "\n",
    "print(model1)\n",
    "test_loss_detailed_1 = xr.open_dataarray(os.path.join(results_path_1, 'test_loss_detailed_all.nc'))\n",
    "x_var = 'c_dist'\n",
    "y_var = 'pwl_y'\n",
    "y_data = test_loss_detailed_1.sel(edge_feature=y_var, epoch=199).values.flatten()\n",
    "y_data = y_data[~np.isnan(y_data)]\n",
    "x_data = test_loss_detailed_1.sel(edge_feature=x_var, epoch=199).values.flatten()\n",
    "x_data = x_data[~np.isnan(x_data)]\n",
    "\n",
    "\n",
    "pwl_data = test_loss_detailed_1.sel(edge_feature='pwl_y', epoch=199).values.flatten()\n",
    "pwl_data = pwl_data[~np.isnan(pwl_data)]\n",
    "cart_dist_data = test_loss_detailed_1.sel(edge_feature='c_dist', epoch=199).values.flatten()\n",
    "cart_dist_data = cart_dist_data[~np.isnan(cart_dist_data)]\n",
    "loss_mae_data = test_loss_detailed_1.sel(edge_feature='loss_mae', epoch=199).values.flatten()\n",
    "loss_mae_data = loss_mae_data[~np.isnan(loss_mae_data)]\n",
    "\n",
    "#filter_min = 0.\n",
    "#filter_max = 1.\n",
    "#y_data = f_filter_arr(y_data, pwl_data, filter_min, filter_max)\n",
    "#x_data = f_filter_arr(x_data, pwl_data, filter_min, filter_max)\n",
    "\n",
    "\n",
    "hist2d_figure = True\n",
    "if (hist2d_figure):\n",
    "    plt.figure(layout='constrained')\n",
    "    plt.hist2d(x_data, y_data, norm=mpl.colors.LogNorm(), bins=bins, cmap=plt.get_cmap(cmap))\n",
    "    #plt.plot([0, 1], [0, 1], '--', lw=2, c='r')\n",
    "    #plt.axis([None, pwlymax, None, pwlymax])\n",
    "    #plt.axis([None, None, None, aemax])\n",
    "    plt.axis([None, None, None, None])\n",
    "    plt.colorbar()\n",
    "    xlabel='Cartesian distance'\n",
    "    ylabel='Precited PWL'\n",
    "    plt.xlabel(xlabel)\n",
    "    plt.ylabel(ylabel)\n",
    "    title = f'{model1} heatmap of AE over Cartesian distance'\n",
    "    plt.title(title)\n",
    "else:\n",
    "    plt.hist(y_data, bins=bins)#, weights=np.ones(len(y_data)) / len(y_data))\n",
    "    plt.axis([None, pwlymax, None, aemax])\n",
    "    xlabel='TODO'\n",
    "    ylabel='TODO'\n",
    "    plt.xlabel(xlabel)\n",
    "    plt.ylabel(ylabel)\n",
    "    title = f'{model1} TODO - filtered [)'\n",
    "    plt.title(title)\n",
    "if (save_file):\n",
    "    plt.savefig(os.path.join(figures_path_1, f'TODO.pdf'), format='pdf')"
   ]
  },
  {
   "cell_type": "code",
   "execution_count": 20,
   "metadata": {},
   "outputs": [
    {
     "name": "stdout",
     "output_type": "stream",
     "text": [
      "MD-E-R\n"
     ]
    },
    {
     "data": {
      "image/png": "[encoded data removed]",
      "text/plain": [
       "<Figure size 432x288 with 2 Axes>"
      ]
     },
     "metadata": {
      "needs_background": "light"
     },
     "output_type": "display_data"
    }
   ],
   "source": [
    "save_file = False\n",
    "cmap = 'cividis'\n",
    "bins = 100\n",
    "\n",
    "print(model2)\n",
    "test_loss_detailed_2 = xr.open_dataarray(os.path.join(results_path_2, 'test_loss_detailed_all.nc'))\n",
    "x_var = 'c_dist'\n",
    "y_var = 'pwl_y'\n",
    "y_data = test_loss_detailed_2.sel(edge_feature=y_var, epoch=199).values.flatten()\n",
    "y_data = y_data[~np.isnan(y_data)]\n",
    "x_data = test_loss_detailed_2.sel(edge_feature=x_var, epoch=199).values.flatten()\n",
    "x_data = x_data[~np.isnan(x_data)]\n",
    "\n",
    "\n",
    "pwl_data = test_loss_detailed_2.sel(edge_feature='pwl_y', epoch=199).values.flatten()\n",
    "pwl_data = pwl_data[~np.isnan(pwl_data)]\n",
    "cart_dist_data = test_loss_detailed_2.sel(edge_feature='c_dist', epoch=199).values.flatten()\n",
    "cart_dist_data = cart_dist_data[~np.isnan(cart_dist_data)]\n",
    "loss_mae_data = test_loss_detailed_2.sel(edge_feature='loss_mae', epoch=199).values.flatten()\n",
    "loss_mae_data = loss_mae_data[~np.isnan(loss_mae_data)]\n",
    "\n",
    "#filter_min = 1.301\n",
    "#filter_max = 99\n",
    "#y_data = f_filter_arr(y_data, cart_dist_data, filter_min, filter_max)\n",
    "#x_data = f_filter_arr(x_data, cart_dist_data, filter_min, filter_max)\n",
    "\n",
    "\n",
    "hist2d_figure = True\n",
    "if (hist2d_figure):\n",
    "    plt.figure(layout='constrained')\n",
    "    plt.hist2d(x_data, y_data, norm=mpl.colors.LogNorm(), bins=bins, cmap=plt.get_cmap(cmap))\n",
    "    #plt.plot([1.3, 1.3], [0, 1], '--', lw=2, c='r')\n",
    "    #plt.plot([0, 1], [0, 1], '--', lw=2, c='r')\n",
    "    plt.axis([None, None, None, None])\n",
    "    #plt.axis([None, None, None, aemax])\n",
    "    plt.colorbar()\n",
    "    ylabel='pwl_y'\n",
    "    xlabel='c_dist'\n",
    "    plt.xlabel(xlabel)\n",
    "    plt.ylabel(ylabel)\n",
    "    plt.yscale('log')\n",
    "    title = f'{model2} heatmap of pwl_y over target c_dist'\n",
    "    plt.title(title)\n",
    "else:\n",
    "    plt.hist(y_data, bins=bins)#, weights=np.ones(len(y_data)) / len(y_data))\n",
    "    plt.axis([None, None, None, None])\n",
    "    xlabel='TODO'\n",
    "    ylabel='TODO'\n",
    "    plt.xlabel(xlabel)\n",
    "    plt.ylabel(ylabel)\n",
    "    title = f'{model2} TODO'\n",
    "    plt.title(title)\n",
    "if (save_file):\n",
    "    plt.savefig(os.path.join(figures_path_2, f'HM-PWLP-CDIST-higherC.pdf'), format='pdf')"
   ]
  }
 ],
 "metadata": {
  "kernelspec": {
   "display_name": "Python 3.9.7 ('windfarm')",
   "language": "python",
   "name": "python3"
  },
  "language_info": {
   "codemirror_mode": {
    "name": "ipython",
    "version": 3
   },
   "file_extension": ".py",
   "mimetype": "text/x-python",
   "name": "python",
   "nbconvert_exporter": "python",
   "pygments_lexer": "ipython3",
   "version": "3.9.7"
  },
  "orig_nbformat": 4,
  "vscode": {
   "interpreter": {
    "hash": "1e6aedd14eb28ac14564c6d45e8019193d5e8c59e50a0762d2c367fd09cfbe52"
   }
  }
 },
 "nbformat": 4,
 "nbformat_minor": 2
}
